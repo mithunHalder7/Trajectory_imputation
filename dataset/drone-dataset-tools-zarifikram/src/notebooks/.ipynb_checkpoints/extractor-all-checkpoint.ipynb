{
 "cells": [
  {
   "cell_type": "markdown",
   "id": "f4cba2d4-281e-451a-b0fe-ae106bcb7ec5",
   "metadata": {},
   "source": [
    "# TO RUN\n",
    "1. Make sure you installed all the dependencies\n",
    "2. open **'init_notebook.py'** and change the **projectFolder** to the src folder of the repository.\n",
    "3. In the following cell change the dataDir to the data directory of the InD dataset"
   ]
  },
  {
   "cell_type": "code",
   "execution_count": 1,
   "id": "ccd1abe4-0ab0-404a-89d5-b778da562773",
   "metadata": {},
   "outputs": [],
   "source": [
    "# dataDir = \"/Users/zarifikram/Documents/Repos/drone-dataset-tools/data/ind\"\n",
    "dataDir = \"E:/Datasets/inD-dataset-v1.0/data/\"\n",
    "# dataDir = \"G:AV datasets/inD-dataset-v1.0/data\""
   ]
  },
  {
   "cell_type": "code",
   "execution_count": 2,
   "id": "346be685-b46b-47d3-ba67-40cf576ed1ed",
   "metadata": {},
   "outputs": [
    {
     "name": "stdout",
     "output_type": "stream",
     "text": [
      "current working dirD:\\AV\\DataSetExploration\\drone-dataset-tools\\src\n"
     ]
    }
   ],
   "source": [
    "exec(open('init_notebook.py').read())"
   ]
  },
  {
   "cell_type": "code",
   "execution_count": 3,
   "id": "e4319bc4-ce3a-4391-83d2-af836fbb91ef",
   "metadata": {},
   "outputs": [],
   "source": [
    "%load_ext autoreload\n",
    "%autoreload 2\n"
   ]
  },
  {
   "cell_type": "code",
   "execution_count": 5,
   "id": "c65a06a8-7370-4251-bd54-b651558ebbcd",
   "metadata": {},
   "outputs": [],
   "source": [
    "import logging\n",
    "logging.basicConfig(level=logging.INFO)\n",
    "from loguru import logger\n",
    "logger.remove()\n",
    "logger.add(sys.stdout, format=\"{level} {message}\", filter=\"my_module\", level=\"INFO\")\n",
    "from joblib import Parallel, delayed\n",
    "from extractors.loader import Loader\n",
    "from extractors.LocationData import LocationData"
   ]
  },
  {
   "cell_type": "code",
   "execution_count": 6,
   "id": "f407f16c-b564-4441-b7f9-2ac0c211d62d",
   "metadata": {},
   "outputs": [
    {
     "data": {
      "text/plain": [
       "{4: [0, 1, 2, 3, 4, 5, 6],\n",
       " 1: [7, 8, 9, 10, 11, 12, 13, 14, 15, 16, 17],\n",
       " 2: [18, 19, 20, 21, 22, 23, 24, 25, 26, 27, 28, 29],\n",
       " 3: [30, 31, 32]}"
      ]
     },
     "execution_count": 6,
     "metadata": {},
     "output_type": "execute_result"
    }
   ],
   "source": [
    "loader = Loader(dataDir, 'inD')\n",
    "loader.locationToRecordingIds"
   ]
  },
  {
   "cell_type": "markdown",
   "id": "20968705-eb5f-4af1-bbbc-cc17c19228e6",
   "metadata": {},
   "source": [
    "# Step 1: Load all the location data, downsample them, extract SceneData and save location data\n"
   ]
  },
  {
   "cell_type": "code",
   "execution_count": null,
   "id": "7b387fb7-e382-4425-b531-606a32d1ddf4",
   "metadata": {},
   "outputs": [],
   "source": [
    "# No Job Lib Version\n",
    "# locations = [1, 2, 3, 4]\n",
    "# locDataList = []\n",
    "\n",
    "# for loc in locations:\n",
    "#     locData = loader.getLocationData(loc, useSceneConfigToExtract=True, downSampleFps=10)\n",
    "#     locData.save(\"../data\") # whole thing as a dill object\n",
    "    # locDataList.append(locData)"
   ]
  },
  {
   "cell_type": "code",
   "execution_count": null,
   "id": "f19fda1a-010b-4e7d-9b76-008c0b5bfc67",
   "metadata": {},
   "outputs": [],
   "source": [
    "# Job lib version\n",
    "# locations = [1, 2, 3, 4]\n",
    "# locDataList = Parallel(n_jobs=4)(\n",
    "#         delayed(loader.getLocationData)(loc, useSceneConfigToExtract=True, downSampleFps=10) for loc in locations\n",
    "# )\n",
    "# for locData in locDataList:\n",
    "#     locData.save(\"../data\")"
   ]
  },
  {
   "cell_type": "markdown",
   "id": "de480156-f57f-4eb5-91c3-550607c6146a",
   "metadata": {},
   "source": [
    "# Step 2: Clip Trajectories, find fast pedestrians, build local trajectories"
   ]
  },
  {
   "cell_type": "code",
   "execution_count": 7,
   "id": "738fbcb1-2d28-45ba-b91d-461bb1b13699",
   "metadata": {},
   "outputs": [],
   "source": [
    "# we can also load loc data using this: \n",
    "# locDataList = [\n",
    "#     LocationData.load(\"../data/location-1\", \"2023-05-04-fps-10-all.dill\"),\n",
    "#     LocationData.load(\"../data/location-2\", \"2023-05-04-fps-10-all.dill\"),\n",
    "#     LocationData.load(\"../data/location-3\", \"2023-05-04-fps-10-all.dill\"),\n",
    "#     LocationData.load(\"../data/location-4\", \"2023-05-04-fps-10-all.dill\")\n",
    "# ]\n",
    "# for locDataFromFile in locDataList:\n",
    "#     locDataFromFile.buildLocalInformationForScenes()\n",
    "    "
   ]
  },
  {
   "cell_type": "code",
   "execution_count": null,
   "id": "c9178d27-e42e-41db-b8de-f1ec6cfce779",
   "metadata": {},
   "outputs": [],
   "source": [
    "# Job lib version\n",
    "_ = Parallel(n_jobs=4)(\n",
    "        delayed(locData.buildLocalInformationForScenes)() for locData in locDataList\n",
    ")"
   ]
  },
  {
   "cell_type": "markdown",
   "id": "2bffa082-c280-4f91-a2eb-72d98f223a1b",
   "metadata": {},
   "source": [
    "### Step 3. Save everything"
   ]
  },
  {
   "cell_type": "code",
   "execution_count": 32,
   "id": "7f5673d0-f1b3-4372-af53-a79031b00bdf",
   "metadata": {},
   "outputs": [
    {
     "name": "stdout",
     "output_type": "stream",
     "text": [
      "1\n",
      "2\n",
      "3\n",
      "4\n"
     ]
    }
   ],
   "source": [
    "for locData in locDataList:\n",
    "    locData.saveCrossingDf(\"../data\")\n",
    "    locData.saveSceneDataOnly(\"../data\")\n",
    "    locData.save(\"../data\") # whole thing as a dill object"
   ]
  },
  {
   "cell_type": "markdown",
   "id": "9a3410c6-2ebf-4103-b1d0-c57e68ec803a",
   "metadata": {},
   "source": [
    "## Step 4: Analyze problem tracks"
   ]
  },
  {
   "cell_type": "code",
   "execution_count": 8,
   "id": "f6fe1d3d-28a7-49ba-aed9-de09e71810db",
   "metadata": {},
   "outputs": [],
   "source": [
    "from tools.TrajectoryUtils import TrajectoryUtils\n",
    "from tools.TrajectoryVisualizer import TrajectoryVisualizer\n",
    "import matplotlib.pyplot as plt\n",
    "import numpy as np\n",
    "visualizer = TrajectoryVisualizer(loader)"
   ]
  },
  {
   "cell_type": "code",
   "execution_count": null,
   "id": "d2bd73e8-1c55-4be4-96cc-7b653fdfa6db",
   "metadata": {},
   "outputs": [],
   "source": [
    "for locData in locDataList:\n",
    "    sceneIds = locData.getSceneIds()\n",
    "    # print(sceneIds)\n",
    "    if locData.locationId == 2:\n",
    "        sceneIds.remove('140') # somethig is fishy\n",
    "        \n",
    "    # print(sceneIds)\n",
    "    for sceneId in sceneIds:\n",
    "        \n",
    "        sceneData = locData.getSceneData(sceneId) # loads precomputed\n",
    "#         print(\"scene id\", sceneId)\n",
    "#         print(sceneData.warnings)\n",
    "#         print(sceneData.problematicIds)\n",
    "        visualizer.showSceneProblems(sceneData)"
   ]
  },
  {
   "cell_type": "code",
   "execution_count": null,
   "id": "65a77424-4a7b-4540-89d1-87b33d93279b",
   "metadata": {},
   "outputs": [],
   "source": [
    "pedDf.describe()"
   ]
  },
  {
   "cell_type": "code",
   "execution_count": 10,
   "id": "d17ee969-02c7-413d-b051-84db8ffb4259",
   "metadata": {},
   "outputs": [
    {
     "data": {
      "text/plain": [
       "2"
      ]
     },
     "execution_count": 10,
     "metadata": {},
     "output_type": "execute_result"
    }
   ],
   "source": [
    "loc2Data = locDataList[1]\n",
    "loc2Data.locationId"
   ]
  },
  {
   "cell_type": "code",
   "execution_count": 26,
   "id": "2c26d083-fb29-4dbb-ba8c-09515de1619e",
   "metadata": {},
   "outputs": [],
   "source": [
    "sceneData= loc2Data.getSceneData(240)\n",
    "# sceneData.buildLocalInformation(loc2Data.transformer, loc2Data.cleaner, force=True)\n",
    "# pedDf = scene210.getPedDataInSceneCoordinates()\n",
    "# pedDf.describe()"
   ]
  },
  {
   "cell_type": "code",
   "execution_count": 27,
   "id": "8de475f9-701b-4b0d-862a-8a203e0c518c",
   "metadata": {},
   "outputs": [
    {
     "data": {
      "text/plain": [
       "defaultdict(<function extractors.SceneData.SceneData.buildLocalInformation.<locals>.<lambda>()>,\n",
       "            {'fast_pedestrian': set(), 'car': {18000}})"
      ]
     },
     "execution_count": 27,
     "metadata": {},
     "output_type": "execute_result"
    }
   ],
   "source": [
    "sceneData.problematicIds"
   ]
  },
  {
   "cell_type": "code",
   "execution_count": 28,
   "id": "0f960024-c76b-4280-b1f0-14f9b9b4d9da",
   "metadata": {},
   "outputs": [
    {
     "data": {
      "text/plain": [
       "['pedestrian 27530: enters the scene 2 times',\n",
       " 'car 18000: ERROR: No clipped trajectory',\n",
       " 'car 18000: ERROR: No valid clipped trajectory',\n",
       " 'Other 18000: is lost due to clipping. Check raw data']"
      ]
     },
     "execution_count": 28,
     "metadata": {},
     "output_type": "execute_result"
    }
   ],
   "source": [
    "sceneData.warnings"
   ]
  },
  {
   "cell_type": "code",
   "execution_count": 29,
   "id": "d4e14a20-89b9-429c-9aa8-c54b85c73a75",
   "metadata": {},
   "outputs": [
    {
     "data": {
      "text/plain": [
       "3.0"
      ]
     },
     "execution_count": 29,
     "metadata": {},
     "output_type": "execute_result"
    }
   ],
   "source": [
    "loc2Data.cleaner.maxSpeed"
   ]
  },
  {
   "cell_type": "code",
   "execution_count": 30,
   "id": "e41ff02a-13c8-4fff-8051-d88d845529db",
   "metadata": {},
   "outputs": [],
   "source": [
    "pedDfRaw = sceneData.pedData\n",
    "ped27530 = pedDfRaw[pedDfRaw[\"uniqueTrackId\"] ==  27530]\n",
    "# ped27530\n",
    "\n",
    "otherDfRaw = sceneData.otherData"
   ]
  },
  {
   "cell_type": "code",
   "execution_count": 41,
   "id": "3fa95c6a-bff4-49f4-8dbb-b1a3e5b8448d",
   "metadata": {},
   "outputs": [
    {
     "data": {
      "text/html": [
       "<div>\n",
       "<style scoped>\n",
       "    .dataframe tbody tr th:only-of-type {\n",
       "        vertical-align: middle;\n",
       "    }\n",
       "\n",
       "    .dataframe tbody tr th {\n",
       "        vertical-align: top;\n",
       "    }\n",
       "\n",
       "    .dataframe thead th {\n",
       "        text-align: right;\n",
       "    }\n",
       "</style>\n",
       "<table border=\"1\" class=\"dataframe\">\n",
       "  <thead>\n",
       "    <tr style=\"text-align: right;\">\n",
       "      <th></th>\n",
       "      <th>sceneX</th>\n",
       "      <th>sceneY</th>\n",
       "    </tr>\n",
       "  </thead>\n",
       "  <tbody>\n",
       "  </tbody>\n",
       "</table>\n",
       "</div>"
      ],
      "text/plain": [
       "Empty DataFrame\n",
       "Columns: [sceneX, sceneY]\n",
       "Index: []"
      ]
     },
     "execution_count": 41,
     "metadata": {},
     "output_type": "execute_result"
    }
   ],
   "source": [
    "import pandas as pd\n",
    "sceneData.pedData = ped27530\n",
    "sceneData.otherData = otherDfRaw.head(100).copy()\n",
    "# sceneData.otherData\n",
    "# sceneData._isLocalTransformationDone = False\n",
    "# sceneData._isLocalTransformationDone = False\n",
    "# otherScene = sceneData.getOtherDataInSceneCoordinates()\n",
    "# otherScene.head()"
   ]
  },
  {
   "cell_type": "code",
   "execution_count": 37,
   "id": "545c693a-0a31-4f40-9293-ce18eef18a3d",
   "metadata": {},
   "outputs": [
    {
     "data": {
      "text/html": [
       "<div>\n",
       "<style scoped>\n",
       "    .dataframe tbody tr th:only-of-type {\n",
       "        vertical-align: middle;\n",
       "    }\n",
       "\n",
       "    .dataframe tbody tr th {\n",
       "        vertical-align: top;\n",
       "    }\n",
       "\n",
       "    .dataframe thead th {\n",
       "        text-align: right;\n",
       "    }\n",
       "</style>\n",
       "<table border=\"1\" class=\"dataframe\">\n",
       "  <thead>\n",
       "    <tr style=\"text-align: right;\">\n",
       "      <th></th>\n",
       "      <th>index</th>\n",
       "      <th>recordingId</th>\n",
       "      <th>trackId</th>\n",
       "      <th>frame</th>\n",
       "      <th>trackLifetime</th>\n",
       "      <th>xCenter</th>\n",
       "      <th>yCenter</th>\n",
       "      <th>heading</th>\n",
       "      <th>width</th>\n",
       "      <th>length</th>\n",
       "      <th>xVelocity</th>\n",
       "      <th>yVelocity</th>\n",
       "      <th>xAcceleration</th>\n",
       "      <th>yAcceleration</th>\n",
       "      <th>uniqueTrackId</th>\n",
       "      <th>sceneId</th>\n",
       "      <th>roadWidth</th>\n",
       "      <th>class</th>\n",
       "      <th>speed</th>\n",
       "    </tr>\n",
       "  </thead>\n",
       "  <tbody>\n",
       "    <tr>\n",
       "      <th>0</th>\n",
       "      <td>129236</td>\n",
       "      <td>18</td>\n",
       "      <td>0</td>\n",
       "      <td>0</td>\n",
       "      <td>0</td>\n",
       "      <td>84.30107</td>\n",
       "      <td>-22.02852</td>\n",
       "      <td>194.94744</td>\n",
       "      <td>1.85331</td>\n",
       "      <td>4.41079</td>\n",
       "      <td>-7.91662</td>\n",
       "      <td>-1.91685</td>\n",
       "      <td>-0.07138</td>\n",
       "      <td>-0.1432</td>\n",
       "      <td>18000</td>\n",
       "      <td>240</td>\n",
       "      <td>6.0</td>\n",
       "      <td>car</td>\n",
       "      <td>NaN</td>\n",
       "    </tr>\n",
       "    <tr>\n",
       "      <th>1</th>\n",
       "      <td>129237</td>\n",
       "      <td>18</td>\n",
       "      <td>0</td>\n",
       "      <td>2</td>\n",
       "      <td>2</td>\n",
       "      <td>83.66711</td>\n",
       "      <td>-22.18349</td>\n",
       "      <td>194.92958</td>\n",
       "      <td>1.85331</td>\n",
       "      <td>4.41079</td>\n",
       "      <td>-7.93992</td>\n",
       "      <td>-1.9338</td>\n",
       "      <td>-0.03202</td>\n",
       "      <td>-0.13578</td>\n",
       "      <td>18000</td>\n",
       "      <td>240</td>\n",
       "      <td>6.0</td>\n",
       "      <td>car</td>\n",
       "      <td>NaN</td>\n",
       "    </tr>\n",
       "    <tr>\n",
       "      <th>2</th>\n",
       "      <td>129238</td>\n",
       "      <td>18</td>\n",
       "      <td>0</td>\n",
       "      <td>4</td>\n",
       "      <td>4</td>\n",
       "      <td>83.02679</td>\n",
       "      <td>-22.33976</td>\n",
       "      <td>194.9121</td>\n",
       "      <td>1.85331</td>\n",
       "      <td>4.41079</td>\n",
       "      <td>-7.95595</td>\n",
       "      <td>-1.94891</td>\n",
       "      <td>0.04048</td>\n",
       "      <td>-0.11831</td>\n",
       "      <td>18000</td>\n",
       "      <td>240</td>\n",
       "      <td>6.0</td>\n",
       "      <td>car</td>\n",
       "      <td>NaN</td>\n",
       "    </tr>\n",
       "    <tr>\n",
       "      <th>3</th>\n",
       "      <td>129239</td>\n",
       "      <td>18</td>\n",
       "      <td>0</td>\n",
       "      <td>6</td>\n",
       "      <td>6</td>\n",
       "      <td>82.3841</td>\n",
       "      <td>-22.49747</td>\n",
       "      <td>194.88031</td>\n",
       "      <td>1.85331</td>\n",
       "      <td>4.41079</td>\n",
       "      <td>-7.96129</td>\n",
       "      <td>-1.96173</td>\n",
       "      <td>0.13847</td>\n",
       "      <td>-0.09228</td>\n",
       "      <td>18000</td>\n",
       "      <td>240</td>\n",
       "      <td>6.0</td>\n",
       "      <td>car</td>\n",
       "      <td>NaN</td>\n",
       "    </tr>\n",
       "    <tr>\n",
       "      <th>4</th>\n",
       "      <td>129240</td>\n",
       "      <td>18</td>\n",
       "      <td>0</td>\n",
       "      <td>8</td>\n",
       "      <td>8</td>\n",
       "      <td>81.73775</td>\n",
       "      <td>-22.65647</td>\n",
       "      <td>194.80754</td>\n",
       "      <td>1.85331</td>\n",
       "      <td>4.41079</td>\n",
       "      <td>-7.951</td>\n",
       "      <td>-1.97095</td>\n",
       "      <td>0.25011</td>\n",
       "      <td>-0.05996</td>\n",
       "      <td>18000</td>\n",
       "      <td>240</td>\n",
       "      <td>6.0</td>\n",
       "      <td>car</td>\n",
       "      <td>NaN</td>\n",
       "    </tr>\n",
       "  </tbody>\n",
       "</table>\n",
       "</div>"
      ],
      "text/plain": [
       "    index  recordingId  trackId  frame  trackLifetime   xCenter   yCenter  \\\n",
       "0  129236           18        0      0              0  84.30107 -22.02852   \n",
       "1  129237           18        0      2              2  83.66711 -22.18349   \n",
       "2  129238           18        0      4              4  83.02679 -22.33976   \n",
       "3  129239           18        0      6              6   82.3841 -22.49747   \n",
       "4  129240           18        0      8              8  81.73775 -22.65647   \n",
       "\n",
       "     heading    width   length  xVelocity  yVelocity  xAcceleration  \\\n",
       "0  194.94744  1.85331  4.41079   -7.91662   -1.91685       -0.07138   \n",
       "1  194.92958  1.85331  4.41079   -7.93992    -1.9338       -0.03202   \n",
       "2   194.9121  1.85331  4.41079   -7.95595   -1.94891        0.04048   \n",
       "3  194.88031  1.85331  4.41079   -7.96129   -1.96173        0.13847   \n",
       "4  194.80754  1.85331  4.41079     -7.951   -1.97095        0.25011   \n",
       "\n",
       "   yAcceleration  uniqueTrackId sceneId  roadWidth class  speed  \n",
       "0        -0.1432          18000     240        6.0   car    NaN  \n",
       "1       -0.13578          18000     240        6.0   car    NaN  \n",
       "2       -0.11831          18000     240        6.0   car    NaN  \n",
       "3       -0.09228          18000     240        6.0   car    NaN  \n",
       "4       -0.05996          18000     240        6.0   car    NaN  "
      ]
     },
     "execution_count": 37,
     "metadata": {},
     "output_type": "execute_result"
    }
   ],
   "source": [
    "otherDfRaw.head()"
   ]
  },
  {
   "cell_type": "code",
   "execution_count": 38,
   "id": "73dc8063-1b9b-4b93-97d9-3f9f3d77994c",
   "metadata": {},
   "outputs": [
    {
     "name": "stderr",
     "output_type": "stream",
     "text": [
      "INFO:root:SceneData 240: moving outlier peds to others. We should only find outliers in the clipped trajectories?\n",
      "INFO:root:getOutliersBySpeed: using range (0.0, 3.0)\n",
      "INFO:root:Scene 240: clipping original data\n",
      "clipping ped trajectories for scene # 240 with width offset 4.0: 100%|███████████████████| 1/1 [00:00<00:00, 14.08it/s]\n",
      "clipping other trajectories for scene # 240: 100%|██████████████████████████████████████| 1/1 [00:00<00:00, 330.10it/s]\n",
      "INFO:root:Scene 240: transforming trajectories to scene coordinates\n",
      "INFO:root:Scene 240: adding dynamics (velocity, acceleration) in scene coordinates\n"
     ]
    },
    {
     "name": "stdout",
     "output_type": "stream",
     "text": [
      "    index  recordingId  trackId  frame  trackLifetime   xCenter   yCenter  \\\n",
      "0  622605           27      530  29526            284  44.57489 -11.07828   \n",
      "1  622606           27      530  29528            286   44.5884 -11.09548   \n",
      "2  622607           27      530  29530            288  44.60255 -11.11527   \n",
      "3  622608           27      530  29532            290  44.61747 -11.13711   \n",
      "4  622609           27      530  29534            292  44.63202 -11.15776   \n",
      "\n",
      "     heading  width  length  xVelocity  yVelocity  xAcceleration  \\\n",
      "0  241.47346    0.0     0.0    0.13002   -0.17748        0.21361   \n",
      "1  241.01705    0.0     0.0    0.14608   -0.19338        0.14906   \n",
      "2   240.6067    0.0     0.0     0.1553   -0.20339        0.08546   \n",
      "3  240.23983    0.0     0.0    0.15775   -0.20547        0.02549   \n",
      "4  239.91386    0.0     0.0    0.15383   -0.19939       -0.02801   \n",
      "\n",
      "   yAcceleration  uniqueTrackId sceneId  roadWidth     speed    sceneX  \\\n",
      "0       -0.09316        2753000     240        6.0  0.183876  4.284340   \n",
      "1       -0.05928        2753000     240        6.0  0.206588  4.262613   \n",
      "2       -0.01314        2753000     240        6.0  0.219627  4.238596   \n",
      "3        0.03969        2753000     240        6.0  0.223092  4.212581   \n",
      "4        0.09256        2753000     240        6.0  0.217548  4.187671   \n",
      "\n",
      "     sceneY  \n",
      "0 -4.998671  \n",
      "1 -4.996160  \n",
      "2 -4.992281  \n",
      "3 -4.987506  \n",
      "4 -4.983306  \n",
      "Empty DataFrame\n",
      "Columns: [sceneX, sceneY]\n",
      "Index: []\n"
     ]
    },
    {
     "ename": "KeyError",
     "evalue": "'uniqueTrackId'",
     "output_type": "error",
     "traceback": [
      "\u001b[1;31m---------------------------------------------------------------------------\u001b[0m",
      "\u001b[1;31mKeyError\u001b[0m                                  Traceback (most recent call last)",
      "File \u001b[1;32m~\\anaconda3\\envs\\drone-dataset-tools38\\lib\\site-packages\\pandas\\core\\indexes\\base.py:3803\u001b[0m, in \u001b[0;36mIndex.get_loc\u001b[1;34m(self, key, method, tolerance)\u001b[0m\n\u001b[0;32m   3802\u001b[0m \u001b[38;5;28;01mtry\u001b[39;00m:\n\u001b[1;32m-> 3803\u001b[0m     \u001b[38;5;28;01mreturn\u001b[39;00m \u001b[38;5;28;43mself\u001b[39;49m\u001b[38;5;241;43m.\u001b[39;49m\u001b[43m_engine\u001b[49m\u001b[38;5;241;43m.\u001b[39;49m\u001b[43mget_loc\u001b[49m\u001b[43m(\u001b[49m\u001b[43mcasted_key\u001b[49m\u001b[43m)\u001b[49m\n\u001b[0;32m   3804\u001b[0m \u001b[38;5;28;01mexcept\u001b[39;00m \u001b[38;5;167;01mKeyError\u001b[39;00m \u001b[38;5;28;01mas\u001b[39;00m err:\n",
      "File \u001b[1;32m~\\anaconda3\\envs\\drone-dataset-tools38\\lib\\site-packages\\pandas\\_libs\\index.pyx:138\u001b[0m, in \u001b[0;36mpandas._libs.index.IndexEngine.get_loc\u001b[1;34m()\u001b[0m\n",
      "File \u001b[1;32m~\\anaconda3\\envs\\drone-dataset-tools38\\lib\\site-packages\\pandas\\_libs\\index.pyx:165\u001b[0m, in \u001b[0;36mpandas._libs.index.IndexEngine.get_loc\u001b[1;34m()\u001b[0m\n",
      "File \u001b[1;32mpandas\\_libs\\hashtable_class_helper.pxi:5745\u001b[0m, in \u001b[0;36mpandas._libs.hashtable.PyObjectHashTable.get_item\u001b[1;34m()\u001b[0m\n",
      "File \u001b[1;32mpandas\\_libs\\hashtable_class_helper.pxi:5753\u001b[0m, in \u001b[0;36mpandas._libs.hashtable.PyObjectHashTable.get_item\u001b[1;34m()\u001b[0m\n",
      "\u001b[1;31mKeyError\u001b[0m: 'uniqueTrackId'",
      "\nThe above exception was the direct cause of the following exception:\n",
      "\u001b[1;31mKeyError\u001b[0m                                  Traceback (most recent call last)",
      "Cell \u001b[1;32mIn[38], line 1\u001b[0m\n\u001b[1;32m----> 1\u001b[0m \u001b[43msceneData\u001b[49m\u001b[38;5;241;43m.\u001b[39;49m\u001b[43mbuildLocalInformation\u001b[49m\u001b[43m(\u001b[49m\u001b[43mloc2Data\u001b[49m\u001b[38;5;241;43m.\u001b[39;49m\u001b[43mtransformer\u001b[49m\u001b[43m,\u001b[49m\u001b[43m \u001b[49m\u001b[43mloc2Data\u001b[49m\u001b[38;5;241;43m.\u001b[39;49m\u001b[43mcleaner\u001b[49m\u001b[43m,\u001b[49m\u001b[43m \u001b[49m\u001b[43mforce\u001b[49m\u001b[38;5;241;43m=\u001b[39;49m\u001b[38;5;28;43;01mTrue\u001b[39;49;00m\u001b[43m)\u001b[49m\n",
      "File \u001b[1;32mD:\\AV\\DataSetExploration\\drone-dataset-tools\\src\\extractors\\SceneData.py:130\u001b[0m, in \u001b[0;36mSceneData.buildLocalInformation\u001b[1;34m(self, transformer, cleaner, force)\u001b[0m\n\u001b[0;32m    127\u001b[0m \u001b[38;5;66;03m# do cleaning on original trajectories\u001b[39;00m\n\u001b[0;32m    128\u001b[0m \u001b[38;5;28mself\u001b[39m\u001b[38;5;241m.\u001b[39mcleanup(transformer, cleaner, force\u001b[38;5;241m=\u001b[39mforce)\n\u001b[1;32m--> 130\u001b[0m \u001b[38;5;28;43mself\u001b[39;49m\u001b[38;5;241;43m.\u001b[39;49m\u001b[43m_deriveLocalCoordinateAndDynamics\u001b[49m\u001b[43m(\u001b[49m\u001b[43m)\u001b[49m\n\u001b[0;32m    133\u001b[0m \u001b[38;5;66;03m# # redo clipping and deriving data again. # TODO it's too slow, do everything on original data\u001b[39;00m\n\u001b[0;32m    134\u001b[0m \u001b[38;5;66;03m# self._deriveLocalCoordinateAndDynamics()\u001b[39;00m\n\u001b[0;32m    138\u001b[0m idsBefore \u001b[38;5;241m=\u001b[39m \u001b[38;5;28mself\u001b[39m\u001b[38;5;241m.\u001b[39muniqueClippedPedIds()\n",
      "File \u001b[1;32mD:\\AV\\DataSetExploration\\drone-dataset-tools\\src\\extractors\\SceneData.py:106\u001b[0m, in \u001b[0;36mSceneData._deriveLocalCoordinateAndDynamics\u001b[1;34m(self)\u001b[0m\n\u001b[0;32m    103\u001b[0m \u001b[38;5;66;03m# self.appendSceneIdToClipped()\u001b[39;00m\n\u001b[0;32m    105\u001b[0m \u001b[38;5;28mself\u001b[39m\u001b[38;5;241m.\u001b[39m_transformToLocalCoordinates()\n\u001b[1;32m--> 106\u001b[0m \u001b[38;5;28;43mself\u001b[39;49m\u001b[38;5;241;43m.\u001b[39;49m\u001b[43m_addLocalDynamics\u001b[49m\u001b[43m(\u001b[49m\u001b[43m)\u001b[49m\n\u001b[0;32m    108\u001b[0m \u001b[38;5;28mself\u001b[39m\u001b[38;5;241m.\u001b[39m_trimHeadAndTailForLocal()\n",
      "File \u001b[1;32mD:\\AV\\DataSetExploration\\drone-dataset-tools\\src\\extractors\\SceneData.py:278\u001b[0m, in \u001b[0;36mSceneData._addLocalDynamics\u001b[1;34m(self)\u001b[0m\n\u001b[0;32m    275\u001b[0m \u001b[38;5;28mself\u001b[39m\u001b[38;5;241m.\u001b[39m_addLocalDynamicsForDf(\u001b[38;5;28mself\u001b[39m\u001b[38;5;241m.\u001b[39mgetPedDataInSceneCoordinates())\n\u001b[0;32m    277\u001b[0m logging\u001b[38;5;241m.\u001b[39mdebug(\u001b[38;5;124mf\u001b[39m\u001b[38;5;124m\"\u001b[39m\u001b[38;5;124madding other local dynamics for scene \u001b[39m\u001b[38;5;132;01m{\u001b[39;00m\u001b[38;5;28mself\u001b[39m\u001b[38;5;241m.\u001b[39msceneId\u001b[38;5;132;01m}\u001b[39;00m\u001b[38;5;124m\"\u001b[39m)\n\u001b[1;32m--> 278\u001b[0m \u001b[38;5;28;43mself\u001b[39;49m\u001b[38;5;241;43m.\u001b[39;49m\u001b[43m_addLocalDynamicsForDf\u001b[49m\u001b[43m(\u001b[49m\u001b[38;5;28;43mself\u001b[39;49m\u001b[38;5;241;43m.\u001b[39;49m\u001b[43mgetOtherDataInSceneCoordinates\u001b[49m\u001b[43m(\u001b[49m\u001b[43m)\u001b[49m\u001b[43m)\u001b[49m\n\u001b[0;32m    280\u001b[0m \u001b[38;5;28;01mpass\u001b[39;00m\n",
      "File \u001b[1;32mD:\\AV\\DataSetExploration\\drone-dataset-tools\\src\\extractors\\SceneData.py:284\u001b[0m, in \u001b[0;36mSceneData._addLocalDynamicsForDf\u001b[1;34m(self, df)\u001b[0m\n\u001b[0;32m    282\u001b[0m \u001b[38;5;28;01mdef\u001b[39;00m \u001b[38;5;21m_addLocalDynamicsForDf\u001b[39m(\u001b[38;5;28mself\u001b[39m, df: pd\u001b[38;5;241m.\u001b[39mDataFrame):\n\u001b[0;32m    283\u001b[0m     \u001b[38;5;28mprint\u001b[39m(df\u001b[38;5;241m.\u001b[39mhead())\n\u001b[1;32m--> 284\u001b[0m     df[\u001b[38;5;124m\"\u001b[39m\u001b[38;5;124msceneXVelocity\u001b[39m\u001b[38;5;124m\"\u001b[39m] \u001b[38;5;241m=\u001b[39m \u001b[43mTrajectoryUtils\u001b[49m\u001b[38;5;241;43m.\u001b[39;49m\u001b[43mgetVelocitySeriesForAll\u001b[49m\u001b[43m(\u001b[49m\u001b[43mdf\u001b[49m\u001b[43m,\u001b[49m\u001b[43m \u001b[49m\u001b[38;5;124;43m\"\u001b[39;49m\u001b[38;5;124;43msceneX\u001b[39;49m\u001b[38;5;124;43m\"\u001b[39;49m\u001b[43m,\u001b[49m\u001b[43m \u001b[49m\u001b[38;5;28;43mself\u001b[39;49m\u001b[38;5;241;43m.\u001b[39;49m\u001b[43mfps\u001b[49m\u001b[43m)\u001b[49m\n\u001b[0;32m    285\u001b[0m     df[\u001b[38;5;124m\"\u001b[39m\u001b[38;5;124msceneYVelocity\u001b[39m\u001b[38;5;124m\"\u001b[39m] \u001b[38;5;241m=\u001b[39m TrajectoryUtils\u001b[38;5;241m.\u001b[39mgetVelocitySeriesForAll(df, \u001b[38;5;124m\"\u001b[39m\u001b[38;5;124msceneY\u001b[39m\u001b[38;5;124m\"\u001b[39m, \u001b[38;5;28mself\u001b[39m\u001b[38;5;241m.\u001b[39mfps)\n\u001b[0;32m    286\u001b[0m     df[\u001b[38;5;124m\"\u001b[39m\u001b[38;5;124msceneXAcceleration\u001b[39m\u001b[38;5;124m\"\u001b[39m] \u001b[38;5;241m=\u001b[39m TrajectoryUtils\u001b[38;5;241m.\u001b[39mgetAccelerationSeriesForAll(df, \u001b[38;5;124m\"\u001b[39m\u001b[38;5;124msceneXVelocity\u001b[39m\u001b[38;5;124m\"\u001b[39m, \u001b[38;5;28mself\u001b[39m\u001b[38;5;241m.\u001b[39mfps)\n",
      "File \u001b[1;32mD:\\AV\\DataSetExploration\\drone-dataset-tools\\src\\tools\\TrajectoryUtils.py:416\u001b[0m, in \u001b[0;36mTrajectoryUtils.getVelocitySeriesForAll\u001b[1;34m(tracksDf, onCol, fps)\u001b[0m\n\u001b[0;32m    414\u001b[0m individualSeres \u001b[38;5;241m=\u001b[39m []\n\u001b[0;32m    415\u001b[0m \u001b[38;5;66;03m# for trackId in tqdm(tracksDf[\"uniqueTrackId\"].unique(), desc=f\"deriving velocity on {onCol} at fps {fps}\", position=0):\u001b[39;00m\n\u001b[1;32m--> 416\u001b[0m \u001b[38;5;28;01mfor\u001b[39;00m trackId \u001b[38;5;129;01min\u001b[39;00m \u001b[43mtracksDf\u001b[49m\u001b[43m[\u001b[49m\u001b[38;5;124;43m\"\u001b[39;49m\u001b[38;5;124;43muniqueTrackId\u001b[39;49m\u001b[38;5;124;43m\"\u001b[39;49m\u001b[43m]\u001b[49m\u001b[38;5;241m.\u001b[39munique():\n\u001b[0;32m    417\u001b[0m     aTrack \u001b[38;5;241m=\u001b[39m tracksDf[tracksDf[\u001b[38;5;124m\"\u001b[39m\u001b[38;5;124muniqueTrackId\u001b[39m\u001b[38;5;124m\"\u001b[39m] \u001b[38;5;241m==\u001b[39m trackId]\n\u001b[0;32m    418\u001b[0m     individualSeres\u001b[38;5;241m.\u001b[39mappend(\n\u001b[0;32m    419\u001b[0m         TrajectoryUtils\u001b[38;5;241m.\u001b[39mgetTimeDerivativeForOne(aTrack, onCol, fps))\n",
      "File \u001b[1;32m~\\anaconda3\\envs\\drone-dataset-tools38\\lib\\site-packages\\pandas\\core\\frame.py:3805\u001b[0m, in \u001b[0;36mDataFrame.__getitem__\u001b[1;34m(self, key)\u001b[0m\n\u001b[0;32m   3803\u001b[0m \u001b[38;5;28;01mif\u001b[39;00m \u001b[38;5;28mself\u001b[39m\u001b[38;5;241m.\u001b[39mcolumns\u001b[38;5;241m.\u001b[39mnlevels \u001b[38;5;241m>\u001b[39m \u001b[38;5;241m1\u001b[39m:\n\u001b[0;32m   3804\u001b[0m     \u001b[38;5;28;01mreturn\u001b[39;00m \u001b[38;5;28mself\u001b[39m\u001b[38;5;241m.\u001b[39m_getitem_multilevel(key)\n\u001b[1;32m-> 3805\u001b[0m indexer \u001b[38;5;241m=\u001b[39m \u001b[38;5;28;43mself\u001b[39;49m\u001b[38;5;241;43m.\u001b[39;49m\u001b[43mcolumns\u001b[49m\u001b[38;5;241;43m.\u001b[39;49m\u001b[43mget_loc\u001b[49m\u001b[43m(\u001b[49m\u001b[43mkey\u001b[49m\u001b[43m)\u001b[49m\n\u001b[0;32m   3806\u001b[0m \u001b[38;5;28;01mif\u001b[39;00m is_integer(indexer):\n\u001b[0;32m   3807\u001b[0m     indexer \u001b[38;5;241m=\u001b[39m [indexer]\n",
      "File \u001b[1;32m~\\anaconda3\\envs\\drone-dataset-tools38\\lib\\site-packages\\pandas\\core\\indexes\\base.py:3805\u001b[0m, in \u001b[0;36mIndex.get_loc\u001b[1;34m(self, key, method, tolerance)\u001b[0m\n\u001b[0;32m   3803\u001b[0m     \u001b[38;5;28;01mreturn\u001b[39;00m \u001b[38;5;28mself\u001b[39m\u001b[38;5;241m.\u001b[39m_engine\u001b[38;5;241m.\u001b[39mget_loc(casted_key)\n\u001b[0;32m   3804\u001b[0m \u001b[38;5;28;01mexcept\u001b[39;00m \u001b[38;5;167;01mKeyError\u001b[39;00m \u001b[38;5;28;01mas\u001b[39;00m err:\n\u001b[1;32m-> 3805\u001b[0m     \u001b[38;5;28;01mraise\u001b[39;00m \u001b[38;5;167;01mKeyError\u001b[39;00m(key) \u001b[38;5;28;01mfrom\u001b[39;00m \u001b[38;5;21;01merr\u001b[39;00m\n\u001b[0;32m   3806\u001b[0m \u001b[38;5;28;01mexcept\u001b[39;00m \u001b[38;5;167;01mTypeError\u001b[39;00m:\n\u001b[0;32m   3807\u001b[0m     \u001b[38;5;66;03m# If we have a listlike key, _check_indexing_error will raise\u001b[39;00m\n\u001b[0;32m   3808\u001b[0m     \u001b[38;5;66;03m#  InvalidIndexError. Otherwise we fall through and re-raise\u001b[39;00m\n\u001b[0;32m   3809\u001b[0m     \u001b[38;5;66;03m#  the TypeError.\u001b[39;00m\n\u001b[0;32m   3810\u001b[0m     \u001b[38;5;28mself\u001b[39m\u001b[38;5;241m.\u001b[39m_check_indexing_error(key)\n",
      "\u001b[1;31mKeyError\u001b[0m: 'uniqueTrackId'"
     ]
    }
   ],
   "source": [
    "\n",
    "sceneData.buildLocalInformation(loc2Data.transformer, loc2Data.cleaner, force=True)"
   ]
  },
  {
   "cell_type": "code",
   "execution_count": null,
   "id": "3390ac5b-08db-4ee8-b3bf-60b1155065e1",
   "metadata": {},
   "outputs": [],
   "source": []
  }
 ],
 "metadata": {
  "kernelspec": {
   "display_name": "Python 3 (ipykernel)",
   "language": "python",
   "name": "python3"
  },
  "language_info": {
   "codemirror_mode": {
    "name": "ipython",
    "version": 3
   },
   "file_extension": ".py",
   "mimetype": "text/x-python",
   "name": "python",
   "nbconvert_exporter": "python",
   "pygments_lexer": "ipython3",
   "version": "3.8.13"
  }
 },
 "nbformat": 4,
 "nbformat_minor": 5
}
